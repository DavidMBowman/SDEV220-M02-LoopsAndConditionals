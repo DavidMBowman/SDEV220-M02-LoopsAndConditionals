{
 "cells": [
  {
   "cell_type": "code",
   "execution_count": null,
   "id": "998d97b2",
   "metadata": {},
   "outputs": [],
   "source": [
    "secret = 3\n",
    "guess = float(input(\"Guess a whole number between 1 and 10: \"))\n",
    "\n",
    "while guess != secret:\n",
    "    if secret < guess < 11:\n",
    "        print(\"Too High!\")\n",
    "        guess = float(input(\"Guess a whole number between 1 and 10: \"))\n",
    "    elif 0 < guess < secret:\n",
    "        print(\"Too Low!\")\n",
    "        guess = float(input(\"Guess a whole number between 1 and 10: \"))\n",
    "    else:\n",
    "        print(\"Thats not between 1 and 10\")\n",
    "        guess = float(input(\"Guess a whole number between 1 and 10: \"))\n",
    "\n",
    "print(\"You Win!\")"
   ]
  }
 ],
 "metadata": {
  "kernelspec": {
   "display_name": "Python 3 (ipykernel)",
   "language": "python",
   "name": "python3"
  },
  "language_info": {
   "codemirror_mode": {
    "name": "ipython",
    "version": 3
   },
   "file_extension": ".py",
   "mimetype": "text/x-python",
   "name": "python",
   "nbconvert_exporter": "python",
   "pygments_lexer": "ipython3",
   "version": "3.11.4"
  }
 },
 "nbformat": 4,
 "nbformat_minor": 5
}
